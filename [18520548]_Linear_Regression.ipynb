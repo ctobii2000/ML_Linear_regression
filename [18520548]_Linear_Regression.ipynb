{
  "nbformat": 4,
  "nbformat_minor": 0,
  "metadata": {
    "colab": {
      "name": "[18520548]_Linear_Regression.ipynb",
      "provenance": [],
      "authorship_tag": "ABX9TyOeZarQabWbENif07N92e01",
      "include_colab_link": true
    },
    "kernelspec": {
      "name": "python3",
      "display_name": "Python 3"
    },
    "language_info": {
      "name": "python"
    }
  },
  "cells": [
    {
      "cell_type": "markdown",
      "metadata": {
        "id": "view-in-github",
        "colab_type": "text"
      },
      "source": [
        "<a href=\"https://colab.research.google.com/github/ctobii2000/ML_Linear_regression/blob/main/%5B18520548%5D_Linear_Regression.ipynb\" target=\"_parent\"><img src=\"https://colab.research.google.com/assets/colab-badge.svg\" alt=\"Open In Colab\"/></a>"
      ]
    },
    {
      "cell_type": "markdown",
      "metadata": {
        "id": "lfm46rNzlKaH"
      },
      "source": [
        "Tham khảo Source: https://github.com/buidung2004/CS114.L21/blob/main/Assignment/26-04/Linear_Regession.ipynb\n",
        "\n",
        "https://pandas.pydata.org/docs/reference/api/pandas.read_csv.html"
      ]
    },
    {
      "cell_type": "markdown",
      "metadata": {
        "id": "N-dV4wq7brnX"
      },
      "source": [
        "# 1. Import Thư viện"
      ]
    },
    {
      "cell_type": "code",
      "metadata": {
        "id": "QDWW8mCsanUQ"
      },
      "source": [
        "import pandas as pd\n",
        "import numpy as np\n",
        "import matplotlib.pyplot as plt\n",
        "import io\n",
        "import requests\n",
        "import sklearn.linear_model as Linear\n",
        "sklearn.linear_model.LinearRegression\n",
        "from sklearn.model_selection import train_test_split\n",
        "from sklearn.metrics import mean_squared_error"
      ],
      "execution_count": 30,
      "outputs": []
    },
    {
      "cell_type": "markdown",
      "metadata": {
        "id": "oT1FIHlziB_H"
      },
      "source": [
        "#2. Load data và xử lý training"
      ]
    },
    {
      "cell_type": "code",
      "metadata": {
        "id": "YDBHfjdmaLfz"
      },
      "source": [
        "columns = ['Size', 'Time']\n",
        "train = pd.read_csv(\"http://cs.uit.edu.vn/data2.txt\", names=columns)\n",
        "test = pd.read_csv(\"http://cs.uit.edu.vn/data3.txt\", names=columns)"
      ],
      "execution_count": 31,
      "outputs": []
    },
    {
      "cell_type": "code",
      "metadata": {
        "id": "u6AR6dA1d-Pg"
      },
      "source": [
        "# Lấy data input và output\n",
        "x_train = np.array(train['Size']).reshape(-1,1)\n",
        "y_train = np.array(train['Time'])\n",
        "\n",
        "x_test = np.array(test['Size']).reshape(-1,1)\n",
        "y_test = np.array(test['Time'])"
      ],
      "execution_count": 32,
      "outputs": []
    },
    {
      "cell_type": "code",
      "metadata": {
        "colab": {
          "base_uri": "https://localhost:8080/"
        },
        "id": "yMTJPaHohTIp",
        "outputId": "2bc9b2f6-ade8-4684-9e21-8cb81537dc72"
      },
      "source": [
        "print(y_train)"
      ],
      "execution_count": 33,
      "outputs": [
        {
          "output_type": "stream",
          "text": [
            "[0.521842 0.152648 0.298548 ... 0.801394 0.776407 0.314468]\n"
          ],
          "name": "stdout"
        }
      ]
    },
    {
      "cell_type": "code",
      "metadata": {
        "colab": {
          "base_uri": "https://localhost:8080/"
        },
        "id": "2HXFifQshZGj",
        "outputId": "7cef2f1f-dff0-4d46-8ae3-5bc0d92dd1d2"
      },
      "source": [
        "# Train model\n",
        "from sklearn.linear_model import LinearRegression\n",
        "from sklearn.linear_model import LogisticRegression\n",
        "model = LinearRegression()\n",
        "model.fit(x_train, y_train)"
      ],
      "execution_count": 34,
      "outputs": [
        {
          "output_type": "execute_result",
          "data": {
            "text/plain": [
              "LinearRegression(copy_X=True, fit_intercept=True, n_jobs=None, normalize=False)"
            ]
          },
          "metadata": {
            "tags": []
          },
          "execution_count": 34
        }
      ]
    },
    {
      "cell_type": "code",
      "metadata": {
        "colab": {
          "base_uri": "https://localhost:8080/"
        },
        "id": "BRLo10qMjlh3",
        "outputId": "9f996d4c-9d86-4f92-a8ce-af46bb33ebb4"
      },
      "source": [
        "# Accuracy train data\n",
        "model.score(x_train,y_train)"
      ],
      "execution_count": 35,
      "outputs": [
        {
          "output_type": "execute_result",
          "data": {
            "text/plain": [
              "0.9975924993345859"
            ]
          },
          "metadata": {
            "tags": []
          },
          "execution_count": 35
        }
      ]
    },
    {
      "cell_type": "code",
      "metadata": {
        "id": "zKlLmyrWhdSj"
      },
      "source": [
        "def drawPlot(x, y, model):\n",
        "  plt.subplots(figsize=(8,8))\n",
        "  plt.scatter(x, y)\n",
        "  y_pred = np.array(model.predict(x))\n",
        "  plt.scatter(x, y_pred)\n",
        "  plt.show()"
      ],
      "execution_count": 36,
      "outputs": []
    },
    {
      "cell_type": "code",
      "metadata": {
        "colab": {
          "base_uri": "https://localhost:8080/",
          "height": 975
        },
        "id": "2qIqf6U0hgPp",
        "outputId": "6064832e-c7e9-46ea-fe7c-ef3f195f3989"
      },
      "source": [
        "drawPlot(x_train,y_train,model)\n",
        "drawPlot(x_test,y_test,model)"
      ],
      "execution_count": 37,
      "outputs": [
        {
          "output_type": "display_data",
          "data": {
            "image/png": "[encoded data removed]",
            "text/plain": [
              "<Figure size 576x576 with 1 Axes>"
            ]
          },
          "metadata": {
            "tags": [],
            "needs_background": "light"
          }
        },
        {
          "output_type": "display_data",
          "data": {
            "image/png": "[encoded data removed]",
            "text/plain": [
              "<Figure size 576x576 with 1 Axes>"
            ]
          },
          "metadata": {
            "tags": [],
            "needs_background": "light"
          }
        }
      ]
    },
    {
      "cell_type": "code",
      "metadata": {
        "id": "puvs6r5zhjwq"
      },
      "source": [
        "from sklearn.metrics import mean_squared_error as mse\n",
        "\n",
        "def evaluate(x, y, model):\n",
        "  y_predict = model.predict(x)\n",
        "\n",
        "  return mse(y, y_predict)"
      ],
      "execution_count": 38,
      "outputs": []
    },
    {
      "cell_type": "code",
      "metadata": {
        "colab": {
          "base_uri": "https://localhost:8080/"
        },
        "id": "FDOO6tGohnO4",
        "outputId": "625208e4-cf8f-4711-cc64-ed33a933da60"
      },
      "source": [
        "#Tính MSE\n",
        "doLechData2 = evaluate(x_train, y_train, model)\n",
        "doLechData3 = evaluate(x_test, y_test, model)\n",
        "dolechtime = evaluate(x_train, y_train, model)\n",
        "print(\"mean_squared_error for data 2: \" + str(doLechData2))\n",
        "print(\"mean_squared_error for data3: \" + str(doLechData3))\n",
        "print(\"mean_squared_error for column time data3: \" + str(dolechtime))"
      ],
      "execution_count": 42,
      "outputs": [
        {
          "output_type": "stream",
          "text": [
            "mean_squared_error for data 2: 0.00014337728721748835\n",
            "mean_squared_error for data3: 0.020664949397549082\n",
            "mean_squared_error for column time data3: 0.00014337728721748835\n"
          ],
          "name": "stdout"
        }
      ]
    },
    {
      "cell_type": "code",
      "metadata": {
        "colab": {
          "base_uri": "https://localhost:8080/"
        },
        "id": "s8B-5P2vrHR8",
        "outputId": "de8ebe1a-2a07-4fa3-c61d-5cc036bfb171"
      },
      "source": [
        "print(np.average(y_test))"
      ],
      "execution_count": 44,
      "outputs": [
        {
          "output_type": "stream",
          "text": [
            "2.642811968838527\n"
          ],
          "name": "stdout"
        }
      ]
    },
    {
      "cell_type": "code",
      "metadata": {
        "colab": {
          "base_uri": "https://localhost:8080/"
        },
        "id": "-WIXax28rNFQ",
        "outputId": "ee88c48c-1536-480e-ff4c-f562de43947c"
      },
      "source": [
        "print(np.mean(y_test))"
      ],
      "execution_count": 45,
      "outputs": [
        {
          "output_type": "stream",
          "text": [
            "2.642811968838527\n"
          ],
          "name": "stdout"
        }
      ]
    },
    {
      "cell_type": "markdown",
      "metadata": {
        "id": "Am7XoC_IrbY8"
      },
      "source": [
        "      SQRT(MSE)/average\n",
        "      example: sqrt(0.02)/2,64\n",
        "      ~~ 5%"
      ]
    }
  ]
}